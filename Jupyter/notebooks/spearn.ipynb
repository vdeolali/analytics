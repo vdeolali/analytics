{
 "cells": [
  {
   "cell_type": "code",
   "execution_count": 3,
   "id": "e61682a5",
   "metadata": {},
   "outputs": [],
   "source": [
    "import pandas as pd\n",
    "import numpy as np\n",
    "import matplotlib as mplot\n",
    "\n"
   ]
  },
  {
   "cell_type": "code",
   "execution_count": 4,
   "id": "38b530d0",
   "metadata": {},
   "outputs": [],
   "source": [
    "import sklearn"
   ]
  },
  {
   "cell_type": "code",
   "execution_count": 5,
   "id": "c215dd7f",
   "metadata": {},
   "outputs": [],
   "source": [
    "df = pd.read_csv('/Users/vdeolali/Downloads/WindowsShare/Dataset/spearn.csv')"
   ]
  },
  {
   "cell_type": "code",
   "execution_count": 6,
   "id": "30586a63",
   "metadata": {},
   "outputs": [
    {
     "data": {
      "text/html": [
       "<div>\n",
       "<style scoped>\n",
       "    .dataframe tbody tr th:only-of-type {\n",
       "        vertical-align: middle;\n",
       "    }\n",
       "\n",
       "    .dataframe tbody tr th {\n",
       "        vertical-align: top;\n",
       "    }\n",
       "\n",
       "    .dataframe thead th {\n",
       "        text-align: right;\n",
       "    }\n",
       "</style>\n",
       "<table border=\"1\" class=\"dataframe\">\n",
       "  <thead>\n",
       "    <tr style=\"text-align: right;\">\n",
       "      <th></th>\n",
       "      <th>Year</th>\n",
       "      <th>Earnings Yield</th>\n",
       "      <th>Dividend Yield</th>\n",
       "      <th>S&amp;P 500</th>\n",
       "      <th>Earnings</th>\n",
       "      <th>Dividends</th>\n",
       "      <th>Payout Ratio</th>\n",
       "    </tr>\n",
       "  </thead>\n",
       "  <tbody>\n",
       "    <tr>\n",
       "      <th>0</th>\n",
       "      <td>1960</td>\n",
       "      <td>5.34%</td>\n",
       "      <td>3.41%</td>\n",
       "      <td>58.11</td>\n",
       "      <td>3.10</td>\n",
       "      <td>1.98</td>\n",
       "      <td>63.86%</td>\n",
       "    </tr>\n",
       "    <tr>\n",
       "      <th>1</th>\n",
       "      <td>1961</td>\n",
       "      <td>4.71%</td>\n",
       "      <td>2.85%</td>\n",
       "      <td>71.55</td>\n",
       "      <td>3.37</td>\n",
       "      <td>2.04</td>\n",
       "      <td>60.51%</td>\n",
       "    </tr>\n",
       "    <tr>\n",
       "      <th>2</th>\n",
       "      <td>1962</td>\n",
       "      <td>5.81%</td>\n",
       "      <td>3.40%</td>\n",
       "      <td>63.10</td>\n",
       "      <td>3.67</td>\n",
       "      <td>2.15</td>\n",
       "      <td>58.52%</td>\n",
       "    </tr>\n",
       "    <tr>\n",
       "      <th>3</th>\n",
       "      <td>1963</td>\n",
       "      <td>5.51%</td>\n",
       "      <td>3.13%</td>\n",
       "      <td>75.02</td>\n",
       "      <td>4.13</td>\n",
       "      <td>2.35</td>\n",
       "      <td>56.81%</td>\n",
       "    </tr>\n",
       "    <tr>\n",
       "      <th>4</th>\n",
       "      <td>1964</td>\n",
       "      <td>5.62%</td>\n",
       "      <td>3.05%</td>\n",
       "      <td>84.75</td>\n",
       "      <td>4.76</td>\n",
       "      <td>2.58</td>\n",
       "      <td>54.27%</td>\n",
       "    </tr>\n",
       "  </tbody>\n",
       "</table>\n",
       "</div>"
      ],
      "text/plain": [
       "   Year Earnings Yield Dividend Yield  S&P 500  Earnings  Dividends  \\\n",
       "0  1960          5.34%          3.41%    58.11      3.10       1.98   \n",
       "1  1961          4.71%          2.85%    71.55      3.37       2.04   \n",
       "2  1962          5.81%          3.40%    63.10      3.67       2.15   \n",
       "3  1963          5.51%          3.13%    75.02      4.13       2.35   \n",
       "4  1964          5.62%          3.05%    84.75      4.76       2.58   \n",
       "\n",
       "  Payout Ratio  \n",
       "0       63.86%  \n",
       "1       60.51%  \n",
       "2       58.52%  \n",
       "3       56.81%  \n",
       "4       54.27%  "
      ]
     },
     "execution_count": 6,
     "metadata": {},
     "output_type": "execute_result"
    }
   ],
   "source": [
    "df.head()\n"
   ]
  },
  {
   "cell_type": "code",
   "execution_count": null,
   "id": "24a2dbd6",
   "metadata": {},
   "outputs": [],
   "source": []
  }
 ],
 "metadata": {
  "kernelspec": {
   "display_name": "Python 3",
   "language": "python",
   "name": "python3"
  },
  "language_info": {
   "codemirror_mode": {
    "name": "ipython",
    "version": 3
   },
   "file_extension": ".py",
   "mimetype": "text/x-python",
   "name": "python",
   "nbconvert_exporter": "python",
   "pygments_lexer": "ipython3",
   "version": "3.8.8"
  }
 },
 "nbformat": 4,
 "nbformat_minor": 5
}
